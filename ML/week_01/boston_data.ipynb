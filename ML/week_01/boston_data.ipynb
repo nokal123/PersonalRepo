{
  "nbformat": 4,
  "nbformat_minor": 0,
  "metadata": {
    "colab": {
      "name": "boston_data.ipynb",
      "provenance": []
    },
    "kernelspec": {
      "name": "python3",
      "display_name": "Python 3"
    }
  },
  "cells": [
    {
      "cell_type": "code",
      "metadata": {
        "colab": {
          "base_uri": "https://localhost:8080/",
          "height": 320
        },
        "id": "PC-6dVmKKjfn",
        "outputId": "53fa52bb-f474-4001-9089-7f5adb078eb7"
      },
      "source": [
        "import matplotlib.pyplot as plt\n",
        "import numpy as np\n",
        "from sklearn import datasets, linear_model\n",
        "from sklearn.metrics import mean_squared_error, r2_score\n",
        "\n",
        "# Load the boston dataset\n",
        "boston_X, boston_y = datasets.load_boston(return_X_y=True)\n",
        "\n",
        "# Use only one feature\n",
        "boston_X = boston_X[:, np.newaxis, 5]\n",
        "\n",
        "# Split the data into training/testing sets\n",
        "boston_X_train = boston_X[:-50]\n",
        "boston_X_test = boston_X[-50:]\n",
        "\n",
        "# Split the targets into training/testing sets\n",
        "boston_y_train = boston_y[:-50]\n",
        "boston_y_test = boston_y[-50:]\n",
        "\n",
        "# Create linear regression object\n",
        "regr = linear_model.LinearRegression()\n",
        "\n",
        "# Train the model using the training sets\n",
        "regr.fit(boston_X_train, boston_y_train)\n",
        "\n",
        "# Make predictions using the testing set\n",
        "boston_y_pred = regr.predict(boston_X_test)\n",
        "\n",
        "# The coefficients\n",
        "print('Coefficients: \\n', regr.coef_)\n",
        "# The mean squared error\n",
        "print('Mean squared error: %.2f'\n",
        "      % mean_squared_error(boston_y_test, boston_y_pred))\n",
        "# The coefficient of determination: 1 is perfect prediction\n",
        "print('Coefficient of determination: %.2f'\n",
        "      % r2_score(boston_y_test, boston_y_pred))\n",
        "\n",
        "# Plot outputs\n",
        "plt.scatter(boston_X_test, boston_y_test,  color='black')\n",
        "plt.plot(boston_X_test, boston_y_pred, color='blue', linewidth=3)\n",
        "\n",
        "plt.xticks(())\n",
        "plt.yticks(())\n",
        "\n",
        "plt.show()"
      ],
      "execution_count": 12,
      "outputs": [
        {
          "output_type": "stream",
          "text": [
            "Coefficients: \n",
            " [9.15398367]\n",
            "Mean squared error: 19.47\n",
            "Coefficient of determination: -0.03\n"
          ],
          "name": "stdout"
        },
        {
          "output_type": "display_data",
          "data": {
            "image/png": "[encoded data removed]",
            "text/plain": [
              "<Figure size 432x288 with 1 Axes>"
            ]
          },
          "metadata": {
            "tags": []
          }
        }
      ]
    }
  ]
}