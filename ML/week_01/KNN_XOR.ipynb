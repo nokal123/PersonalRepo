{
  "nbformat": 4,
  "nbformat_minor": 0,
  "metadata": {
    "colab": {
      "name": "KNN_XOR.ipynb",
      "provenance": []
    },
    "kernelspec": {
      "name": "python3",
      "display_name": "Python 3"
    }
  },
  "cells": [
    {
      "cell_type": "code",
      "metadata": {
        "colab": {
          "base_uri": "https://localhost:8080/"
        },
        "id": "lPSJoMWHh24e",
        "outputId": "1b642217-bc3d-40ff-9284-52c0c16cba36"
      },
      "source": [
        "import numpy as np\n",
        "import matplotlib.pyplot as plt\n",
        "from math import sqrt\n",
        "\n",
        "# calculate the Euclidean distance between two vectors\n",
        "def euclidean_distance(row1, row2):\n",
        "\tdistance = 0.0\n",
        "\tfor i in range(len(row1)-1):\n",
        "\t\tdistance += (row1[i] - row2[i])**2\n",
        "\treturn sqrt(distance)\n",
        "\n",
        "# Locate the most similar neighbors\n",
        "def get_neighbors(train, test_row, num_neighbors):\n",
        "\tdistances = list()\n",
        "\tfor train_row in train:\n",
        "\t\tdist = euclidean_distance(test_row, train_row)\n",
        "\t\tdistances.append((train_row, dist))\n",
        "\tdistances.sort(key=lambda tup: tup[1])\n",
        "\tneighbors = list()\n",
        "\tfor i in range(num_neighbors):\n",
        "\t\tneighbors.append(distances[i][0])\n",
        "\treturn neighbors\n",
        "\n",
        "# Make a classification prediction with neighbors\n",
        "def predict_classification(train, test_row, num_neighbors):\n",
        "\tneighbors = get_neighbors(train, test_row, num_neighbors)\n",
        " \n",
        " # checking each neighbor for there classification\n",
        "\toutput_values = [row[-1] for row in neighbors]\n",
        "\n",
        "  # determines which classification is the greatest \n",
        "\tprediction = max(set(output_values), key=output_values.count)\n",
        "\treturn prediction\n",
        "\n",
        "x1 =np.concatenate([np.random.uniform(0, 100, 100), np.random.uniform(-100, 0, 100)]) #red\n",
        "y1 =np.concatenate([np.random.uniform(-100, 0, 100), np.random.uniform(0, 100, 100)])\n",
        "\n",
        "x2 =np.concatenate([np.random.uniform(0, 100, 100), np.random.uniform(-100, 0, 100)])\n",
        "y2 =np.concatenate([np.random.uniform(0, 100, 100), np.random.uniform(-100, 0, 100)])\n",
        "\n",
        "# 1 being false and 0 being true, as it is in C\n",
        "set_1 = [[x, y, 0] for x in x1 for y in y1]\n",
        "set_2 = [[x, y, 1] for x in x2 for y in y2]\n",
        "final_data = set_1 + set_2\n",
        "\n",
        "# prediction = predict_classification(dataset, dataset[0], 3)\n",
        "# print('Expected %d, Got %d.' % (dataset[0][-1], prediction))"
      ],
      "execution_count": 66,
      "outputs": [
        {
          "output_type": "stream",
          "text": [
            "[[43.42855020580549, 20.73282861234158, 1], [43.42855020580549, 85.52799098635137, 1], [43.42855020580549, 19.861340992265585, 1], [43.42855020580549, 83.08087991277162, 1], [43.42855020580549, 76.0385337454929, 1], [43.42855020580549, 87.30542447539682, 1], [43.42855020580549, 14.884607876810119, 1], [43.42855020580549, 82.92672557718788, 1], [43.42855020580549, 26.55413972949533, 1], [43.42855020580549, 43.34776993595728, 1], [43.42855020580549, 83.33434419794862, 1], [43.42855020580549, 99.95864861521792, 1], [43.42855020580549, 0.9300763662710043, 1], [43.42855020580549, 95.15090159603878, 1], [43.42855020580549, 85.3361151604892, 1], [43.42855020580549, 84.62061998497661, 1], [43.42855020580549, 63.3238225031381, 1], [43.42855020580549, 33.15172136601039, 1], [43.42855020580549, 27.35058515461233, 1], [43.42855020580549, 57.760093719858304, 1], [43.42855020580549, 83.93100803746078, 1], [43.42855020580549, 88.7885291916564, 1], [43.42855020580549, 27.990973147656284, 1], [43.42855020580549, 76.71201455337294, 1], [43.42855020580549, 33.57029397045547, 1], [43.42855020580549, 85.54319884693952, 1], [43.42855020580549, 26.01719251513739, 1], [43.42855020580549, 16.35332454734858, 1], [43.42855020580549, 65.4154372158019, 1], [43.42855020580549, 92.07230133032701, 1]]\n"
          ],
          "name": "stdout"
        }
      ]
    }
  ]
}